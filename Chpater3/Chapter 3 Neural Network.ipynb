{
 "cells": [
  {
   "attachments": {
    "download-2.png": {
     "image/png": "[encoded data removed]"
    },
    "download.png": {
     "image/png": "[encoded data removed]"
    }
   },
   "cell_type": "markdown",
   "id": "18275a23",
   "metadata": {},
   "source": [
    "# Chpater 3 Neural Network \n",
    "\n",
    "퍼셉트론은 복잡한 함수도 표현이 가능하지만 가중치를 설정하는 작업은 여전히 사람이 수동으로 한다는 것입니다. Chapter 2에서 AND. OR, NAND GATE로 표현한 것 처럼 적절한 가중치를 사람이 직접 정했습니다. 하지만 신경망은 가중치 매개변수의 적절한 값을 데이터로부토 자동으로 학습하는 능력이 있습니다. \n",
    "\n",
    "## 3.1 From Perceptron to Neural Netowrk\n",
    "\n",
    "![download.png](attachment:download.png)\n",
    "\n",
    "가장 왼쪽 줄이 입력층, 맨 오른쪽 줄은 출력층, 중간 줄은 은닉층이라고 합니다. 은닉층의 뉴런은 사람눈에는 보이지 않습니다. \n",
    "\n",
    "그 전 Chapter에서 봤던 Perceptron을 예를 들어 신경망에 대해 설명하겠습니다. \n",
    "\n",
    "$$y=\\begin{equation}\n",
    "\\left\\{ \n",
    "  \\begin{aligned}\n",
    "    0(b + w_1x_1&+w_1x_2 <= 0)\\\\\n",
    "    1(b + w_1x_1&+w_1x_2 > 0)\\\\\n",
    "  \\end{aligned}\n",
    "  \\right.\n",
    "\\end{equation}\n",
    "$$\n",
    "\n",
    "여기서 b는 편향이며 뉴런이 얼마나 쉽게 활성화하는지를 젱합니다. w1과 w2는 각 신호의 가중치를 나타내는 매개변수로, 각 신호의 영향력을 제어합니다. Bias를 네트워크 명시를 하면 아래와 같은 네트워크를 그릴 수 있습니다. 밑에 그림에서는 가중치가 b이고 입력이 1인 뉴런이 추가되었습니다. 이 퍼셉트론 동작은 x1, x2, 1이라는 3개의 신호가 입력되어, 각 신호의 가중치와 곱한 후 다음 뉴런에 전달이 됩니다. \n",
    "\n",
    "![download-2.png](attachment:download-2.png)\n",
    "\n",
    "위에 그림을 수식으로 조금 더 간단히 표현을 하면 \n",
    "\n",
    "\\begin{gather*}\n",
    "y = h(b + w_1x_1 + w_2x_2)\n",
    "\\end{gather*}\n",
    "\n",
    "$$h(x)=\\begin{equation}\n",
    "\\left\\{ \n",
    "  \\begin{aligned}\n",
    "    0 (x <= 0)\\\\\n",
    "    1 (x > 0)\\\\\n",
    "  \\end{aligned}\n",
    "  \\right.\n",
    "\\end{equation}\n",
    "$$\n",
    "\n",
    "입력 신호의 합은 h(x)라는 함수를 거쳐 변환되어, 변환된 값이 y의 출력이 됩을 보여줍니다. 이러한 함수를 활성화 함수 (activation function)이라 합니다. 활성화 함수는 input signal의 총합이 활성화를 일으키는지를 정하는 역할을 합니다. \n",
    "\n",
    "Process of Activation Function \n",
    "\n",
    "\\begin{gather*}\n",
    "a = h(b + w_1x_1 + w_2x_2)\\\\\n",
    "y = h(a)\n",
    "\\end{gather*}\n",
    "\n",
    "그러므로 활성화 함수의 뉴런은 총합을 계산하여 y로 나타내는 두 단계를 그립니다. "
   ]
  },
  {
   "cell_type": "markdown",
   "id": "6df4126c",
   "metadata": {},
   "source": [
    "## 3.2 Activation Function\n",
    "\n",
    "위에 식처럼 활성화 함수는 임계값을 경계로 출력이 바뀌는데, 이런 함수를 계단함수라고 합니다. 그래서 퍼셉트론에서는 활성화 함수로 계단 함수를 이용한다라 할 수 있다. 위에 예제는 활성화 함수로 쓸 수 있는 여러 함수 중 퍼셉트론은 계단 함수를 활용하고 있습니다. \n",
    "\n",
    "Sigmoid Function\n",
    "\n",
    "신경망에서 자주 이용하는 함수인 sigmoid function을 나타낸 식입니다. \n",
    "\n",
    "$$\n",
    "  h(x) = \\frac{1}{1 + e^x-1}\\ \n",
    "$$"
   ]
  },
  {
   "cell_type": "code",
   "execution_count": 1,
   "id": "9bf33103",
   "metadata": {},
   "outputs": [],
   "source": [
    "## step function 구현 \n",
    "import numpy as np\n",
    "import warnings\n",
    "warnings.filterwarnings('ignore')\n",
    "def step_function(x):\n",
    "    if x > 0: \n",
    "        return 1 \n",
    "    else: \n",
    "        return 0\n",
    "    \n",
    "## or \n",
    "\n",
    "def step_function(x):\n",
    "    y = x > 0 \n",
    "    ## converting int value to return boolean by int \n",
    "    return y.astype(np.int)"
   ]
  },
  {
   "cell_type": "code",
   "execution_count": 2,
   "id": "8586a5a6",
   "metadata": {},
   "outputs": [
    {
     "name": "stdout",
     "output_type": "stream",
     "text": [
      "[-1.  1.  2.]\n",
      "[False  True  True]\n",
      "[0 1 1]\n",
      "[-1.  1.  2.]\n",
      "[False  True  True]\n",
      "[0 1 1]\n"
     ]
    }
   ],
   "source": [
    "x = np.array([-1.0, 1.0, 2.0])\n",
    "print(x)\n",
    "y = x > 0 \n",
    "print(y)\n",
    "y = y.astype(np.int)\n",
    "print(y)"
   ]
  },
  {
   "cell_type": "code",
   "execution_count": 3,
   "id": "e50351d0",
   "metadata": {},
   "outputs": [
    {
     "data": {
      "image/png": "[encoded data removed]",
      "text/plain": [
       "<Figure size 432x288 with 1 Axes>"
      ]
     },
     "metadata": {
      "needs_background": "light"
     },
     "output_type": "display_data"
    },
    {
     "data": {
      "image/png": "[encoded data removed]",
      "text/plain": [
       "<Figure size 432x288 with 1 Axes>"
      ]
     },
     "metadata": {
      "needs_background": "light"
     },
     "output_type": "display_data"
    }
   ],
   "source": [
    "## plotting step function \n",
    "import matplotlib.pylab as plt \n",
    "\n",
    "def step_function(x):\n",
    "    return np.array(x>0, dtype=np.int)\n",
    "\n",
    "x = np.arange(-5.0, 5.0, 0.1)\n",
    "y = step_function(x)\n",
    "plt.plot(x, y)\n",
    "plt.ylim(-0.1, 1.1)\n",
    "plt.show()"
   ]
  },
  {
   "cell_type": "markdown",
   "id": "2df369e9",
   "metadata": {},
   "source": [
    "위 계단 함수의 그래프에서 보엿듯이 0을 경계로 출력이 0에서 1 또는 반대로 바뀝니다. 이러한 모양으로 계단 함수라고 불립니다. "
   ]
  },
  {
   "cell_type": "code",
   "execution_count": 4,
   "id": "5ca94783",
   "metadata": {},
   "outputs": [
    {
     "data": {
      "text/plain": [
       "array([0.26894142, 0.73105858, 0.88079708])"
      ]
     },
     "execution_count": 4,
     "metadata": {},
     "output_type": "execute_result"
    },
    {
     "data": {
      "text/plain": [
       "array([0.26894142, 0.73105858, 0.88079708])"
      ]
     },
     "execution_count": 4,
     "metadata": {},
     "output_type": "execute_result"
    }
   ],
   "source": [
    "## sigmoid 함수 구현 \n",
    "def sigmoid(x): \n",
    "    return 1 / (1 + np.exp(-x))\n",
    "\n",
    "x = np.array([-1.0, 1.0, 2.0])\n",
    "sigmoid(x)"
   ]
  },
  {
   "cell_type": "code",
   "execution_count": 5,
   "id": "14665451",
   "metadata": {},
   "outputs": [
    {
     "data": {
      "image/png": "[encoded data removed]",
      "text/plain": [
       "<Figure size 432x288 with 1 Axes>"
      ]
     },
     "metadata": {
      "needs_background": "light"
     },
     "output_type": "display_data"
    },
    {
     "data": {
      "image/png": "[encoded data removed]",
      "text/plain": [
       "<Figure size 432x288 with 1 Axes>"
      ]
     },
     "metadata": {
      "needs_background": "light"
     },
     "output_type": "display_data"
    }
   ],
   "source": [
    "## drawing sigmoid function graph \n",
    "x = np.arange(-5.0, 5.0, 0.1)\n",
    "y = sigmoid(x)\n",
    "plt.plot(x, y)\n",
    "plt.ylim(-0.1, 1.1)\n",
    "plt.show()"
   ]
  },
  {
   "cell_type": "markdown",
   "id": "0ca3b0c3",
   "metadata": {},
   "source": [
    "계단함수는 discrete 하지만 시그모이드 함수는 연속적입니다. 신경망에서는 활성화 함수로 비선형 함수를 사용해야 합니다. 왜냐하면 비선형은 신경망의 층을 깊게 하는 의미가 없어지기 때문입니다. 선형 함수의 문제는 층을 깊게 해도 은닉층이 없는 네트워크로도 똑같이 기능을 구축할 수 있습니다, \n",
    "\n",
    "RELU (Rectified Lienar Unit)\n",
    "\n",
    "ReLU는 입력이 0을 넘으면 그 입력을 그대로 출력하고, 0 이하이면 0을 출력하는 함수입니다. \n",
    "\n",
    "$$h(x)=\\begin{equation}\n",
    "\\left\\{ \n",
    "  \\begin{aligned}\n",
    "    0 (x <= 0)\\\\\n",
    "    1 (x > 0)\\\\\n",
    "  \\end{aligned}\n",
    "  \\right.\n",
    "\\end{equation}\n",
    "$$\n",
    "\n"
   ]
  },
  {
   "cell_type": "code",
   "execution_count": 6,
   "id": "9e45c295",
   "metadata": {},
   "outputs": [],
   "source": [
    "## ReLu 함수 구현 \n",
    "def relu(x): \n",
    "    return np.maximum(0, x)"
   ]
  },
  {
   "cell_type": "code",
   "execution_count": 7,
   "id": "6a39cf90",
   "metadata": {},
   "outputs": [
    {
     "name": "stdout",
     "output_type": "stream",
     "text": [
      "[1 2 3 4]\n",
      "1\n",
      "(4,)\n",
      "4\n",
      "[[1 2]\n",
      " [3 4]\n",
      " [5 6]]\n",
      "2\n",
      "(3, 2)\n",
      "[1 2 3 4]\n",
      "1\n",
      "(4,)\n",
      "4\n",
      "[[1 2]\n",
      " [3 4]\n",
      " [5 6]]\n",
      "2\n",
      "(3, 2)\n"
     ]
    }
   ],
   "source": [
    "## 다차원 배열의 계산 \n",
    "A = np.array([1,2,3,4])\n",
    "print(A)\n",
    "print(np.ndim(A))\n",
    "print(A.shape)\n",
    "print(A.shape[0])\n",
    "B = np.array([[1,2],[3,4],[5,6]])\n",
    "print(B)\n",
    "print(np.ndim(B))\n",
    "print(B.shape)"
   ]
  },
  {
   "cell_type": "code",
   "execution_count": 8,
   "id": "d42713f8",
   "metadata": {},
   "outputs": [
    {
     "name": "stdout",
     "output_type": "stream",
     "text": [
      "(2, 2)\n",
      "(2, 2)\n",
      "[[19 22]\n",
      " [43 50]]\n"
     ]
    },
    {
     "data": {
      "text/plain": [
       "array([[22, 28],\n",
       "       [49, 64]])"
      ]
     },
     "execution_count": 8,
     "metadata": {},
     "output_type": "execute_result"
    },
    {
     "name": "stdout",
     "output_type": "stream",
     "text": [
      "(2, 2)\n",
      "(2, 2)\n",
      "[[19 22]\n",
      " [43 50]]\n"
     ]
    },
    {
     "data": {
      "text/plain": [
       "array([[22, 28],\n",
       "       [49, 64]])"
      ]
     },
     "execution_count": 8,
     "metadata": {},
     "output_type": "execute_result"
    }
   ],
   "source": [
    "## 행렬의 곱 \n",
    "## 행렬의 곱에서는 대응하는 차원의 원소 수를 일치시켜라 \n",
    "A = np.array([[1,2], [3,4]])\n",
    "print(A.shape)\n",
    "B = np.array([[5,6], [7,8]])\n",
    "print(B.shape)\n",
    "print(np.dot(A, B))\n",
    "A = np.array([[1,2,3],[4,5,6]])\n",
    "B = np.array([[1,2],[3,4],[5,6]])\n",
    "np.dot(A, B)"
   ]
  },
  {
   "cell_type": "code",
   "execution_count": 9,
   "id": "f7e702d2",
   "metadata": {},
   "outputs": [
    {
     "data": {
      "text/plain": [
       "array([[22, 28],\n",
       "       [49, 64]])"
      ]
     },
     "execution_count": 9,
     "metadata": {},
     "output_type": "execute_result"
    },
    {
     "data": {
      "text/plain": [
       "array([[22, 28],\n",
       "       [49, 64]])"
      ]
     },
     "execution_count": 9,
     "metadata": {},
     "output_type": "execute_result"
    }
   ],
   "source": [
    "A = np.array([[1,2,3],[4,5,6]])\n",
    "B = np.array([[1,2],[3,4],[5,6]])\n",
    "np.dot(A, B)"
   ]
  },
  {
   "attachments": {
    "neuralnet_mlp_1.png": {
     "image/png": "[encoded data removed]"
    }
   },
   "cell_type": "markdown",
   "id": "99c95b61",
   "metadata": {},
   "source": [
    "![neuralnet_mlp_1.png](attachment:neuralnet_mlp_1.png)\n",
    "\n",
    "위에 이미지처럼 다차원의 노드를 곱하면서 y값을 도출 할 수 있습니다"
   ]
  },
  {
   "cell_type": "code",
   "execution_count": 10,
   "id": "86c42575",
   "metadata": {},
   "outputs": [
    {
     "name": "stdout",
     "output_type": "stream",
     "text": [
      "[0.31682708 0.69627909]\n",
      "[0.31682708 0.69627909]\n"
     ]
    }
   ],
   "source": [
    "## 3 층 신경망 구현 \n",
    "\n",
    "def init_network():\n",
    "    network = {}\n",
    "    network['W1'] = np.array([[0.1, 0.3, 0.5], [0.2, 0.4, 0.6]])\n",
    "    network['b1'] = np.array([0.1, 0.2, 0.3])\n",
    "    network ['W2'] = np.array([[0.1, 0.4], [0.2, 0.5,], [0.3, 0.6]])\n",
    "    network['b2'] = np.array([0.1, 0.2])\n",
    "    network['W3'] = np.array([[0.1, 0.3], [0.2, 0.4]])\n",
    "    network['b3'] = np.array([0.1, 0.2])\n",
    "    return network\n",
    "\n",
    "def identity_function(x):\n",
    "    return x \n",
    "\n",
    "def forward(network, x): \n",
    "    W1, W2, W3 = network['W1'], network['W2'] , network['W3']\n",
    "    b1, b2, b3 = network['b1'], network['b2'] , network['b3']\n",
    "    \n",
    "    a1 = np.dot(x, W1) + b1 \n",
    "    z1 = sigmoid(a1)\n",
    "    a2 =  np.dot(z1, W2) + b2 \n",
    "    z2 = sigmoid(a2)\n",
    "    a3 =  np.dot(z2, W3) + b3 \n",
    "    y = identity_function(a3)\n",
    "    return y\n",
    "\n",
    "network = init_network()\n",
    "x = np.array([1.0, 0.5])\n",
    "y = forward(network, x)\n",
    "print(y)\n",
    "    "
   ]
  },
  {
   "cell_type": "markdown",
   "id": "b1e72d9b",
   "metadata": {},
   "source": [
    "함수 이름이 forward인 것은 신호가 순방향으로 전달됨을 알리기 위함입니다. "
   ]
  },
  {
   "attachments": {
    "download.png": {
     "image/png": "[encoded data removed]"
    }
   },
   "cell_type": "markdown",
   "id": "cd92cfa1",
   "metadata": {},
   "source": [
    "출력층 설계하기 \n",
    "- 신경망은 분류와 회귀 모두에 이용할 수 있습니다. 다만 둘 중 어떤 문제냐에 따라 출력층에서 사용하는 활성화 함수가 달라집니다.\n",
    "- 일반적으로 회귀에는 항등 함수를, 분류에는 소프트 맥스 함수를 사용합니다. \n",
    "\n",
    "항등 함수 (identity function)\n",
    "- 입력을 그대로 출력합니다.\n",
    "- 입력과 출력이 항상 같다는 뜻의 항등입니다 \n",
    "\n",
    "소프트맥스 함수(softmax function)\n",
    "\n",
    "공식 \n",
    "\n",
    "![download.png](attachment:download.png)\n",
    "\n",
    "K는 출령층의 뉴런 수, i는 그중 i번째 출력임을 뜻합니다"
   ]
  },
  {
   "cell_type": "code",
   "execution_count": 11,
   "id": "b7329a9c",
   "metadata": {},
   "outputs": [
    {
     "name": "stdout",
     "output_type": "stream",
     "text": [
      "[ 1.34985881 18.17414537 54.59815003]\n",
      "74.1221542101633\n",
      "[0.01821127 0.24519181 0.73659691]\n",
      "[ 1.34985881 18.17414537 54.59815003]\n",
      "74.1221542101633\n",
      "[0.01821127 0.24519181 0.73659691]\n"
     ]
    }
   ],
   "source": [
    "## softmax function 구현 \n",
    "a = np.array([0.3, 2.9, 4.0])\n",
    "exp_a = np.exp(a) # 지수 함수 \n",
    "print(exp_a)\n",
    "sum_exp_a = np.sum(exp_a)\n",
    "print(sum_exp_a)\n",
    "y = exp_a / sum_exp_a\n",
    "print(y)"
   ]
  },
  {
   "cell_type": "code",
   "execution_count": 12,
   "id": "a4009c6c",
   "metadata": {},
   "outputs": [
    {
     "data": {
      "text/plain": [
       "array([0.01821127, 0.24519181, 0.73659691])"
      ]
     },
     "execution_count": 12,
     "metadata": {},
     "output_type": "execute_result"
    },
    {
     "data": {
      "text/plain": [
       "array([0.01821127, 0.24519181, 0.73659691])"
      ]
     },
     "execution_count": 12,
     "metadata": {},
     "output_type": "execute_result"
    }
   ],
   "source": [
    "def softmax(a):\n",
    "    exp_a = np.exp(a) # 지수 함수 \n",
    "    sum_exp_a = np.sum(exp_a)\n",
    "    y = exp_a / sum_exp_a\n",
    "    return y \n",
    "softmax(a)"
   ]
  },
  {
   "cell_type": "markdown",
   "id": "4d51d700",
   "metadata": {},
   "source": [
    "컴퓨터로 softmax를 구현하였을 때 오버플로 문제가 있습니다. 소프트맥스 함수는 지수 함수를  사용하는데, 대게 지수함수는 큰 값을 보여줍니다. \n",
    "그러므로 이런 큰 값끼리 나눗셈을 하면 결과 수치가 불안정해집니다. \n",
    "\n",
    "또한 위에 공식에서 보이는 것처럼 임의의 정수를 빼거나 더해도 결과값은 변하지 않습니다. 오버플로를 막을 목적으로는 입력 신호 중 최댓값을 이용하는 것이 일반적입니다. "
   ]
  },
  {
   "cell_type": "code",
   "execution_count": 13,
   "id": "45bd623d",
   "metadata": {},
   "outputs": [
    {
     "name": "stdout",
     "output_type": "stream",
     "text": [
      "[nan nan nan]\n",
      "1010\n",
      "[  0 -10 -20]\n",
      "[nan nan nan]\n",
      "1010\n",
      "[  0 -10 -20]\n"
     ]
    },
    {
     "data": {
      "text/plain": [
       "array([9.99954600e-01, 4.53978686e-05, 2.06106005e-09])"
      ]
     },
     "execution_count": 13,
     "metadata": {},
     "output_type": "execute_result"
    },
    {
     "data": {
      "text/plain": [
       "array([9.99954600e-01, 4.53978686e-05, 2.06106005e-09])"
      ]
     },
     "execution_count": 13,
     "metadata": {},
     "output_type": "execute_result"
    }
   ],
   "source": [
    "a = np.array([1010, 1000, 990])\n",
    "print(np.exp(a)/np.sum(np.exp(a)))\n",
    "c = np.max(a)\n",
    "print(c)\n",
    "print(a - c)\n",
    "np.exp(a-c) / np.sum(np.exp(a-c))"
   ]
  },
  {
   "cell_type": "markdown",
   "id": "55ff068b",
   "metadata": {},
   "source": [
    "위에 예제처럼 값이 크면 nan이라고 표시됩니다. "
   ]
  },
  {
   "cell_type": "code",
   "execution_count": 14,
   "id": "c01e8bce",
   "metadata": {},
   "outputs": [
    {
     "data": {
      "text/plain": [
       "array([9.99954600e-01, 4.53978686e-05, 2.06106005e-09])"
      ]
     },
     "execution_count": 14,
     "metadata": {},
     "output_type": "execute_result"
    },
    {
     "data": {
      "text/plain": [
       "array([9.99954600e-01, 4.53978686e-05, 2.06106005e-09])"
      ]
     },
     "execution_count": 14,
     "metadata": {},
     "output_type": "execute_result"
    }
   ],
   "source": [
    "def softmax(a): \n",
    "    c = np.max(a)\n",
    "    return np.exp(a-c) / np.sum(np.exp(a-c))\n",
    "\n",
    "softmax(a)"
   ]
  },
  {
   "cell_type": "markdown",
   "id": "96794f05",
   "metadata": {},
   "source": [
    "소프트맥스 함수의 출력은 0에서 1사이의 실수입니다. 또 소프트맥스 함수의 출력의 총합은 1입니다. 출력 총합이 1인것은 확률로 해석할 수 있습니다.추론 단계에서는 출력층의 소프트맥스 함수를 생략하는 것이 일반 적인게 지수 함수여서 각 원소의 대소 관계는 변하지 않습니다."
   ]
  },
  {
   "cell_type": "markdown",
   "id": "fac0e569",
   "metadata": {},
   "source": [
    "출력층의 뉴런 수 정하기 \n",
    "- 분류에서는 분류하고 싶은 클래스 수로 설정하는 것이 일반적입니다. \n"
   ]
  },
  {
   "cell_type": "code",
   "execution_count": 15,
   "id": "e6519e53",
   "metadata": {},
   "outputs": [
    {
     "name": "stdout",
     "output_type": "stream",
     "text": [
      "(60000, 784)\n",
      "(60000,)\n",
      "(10000, 784)\n",
      "(10000,)\n",
      "(60000, 784)\n",
      "(60000,)\n",
      "(10000, 784)\n",
      "(10000,)\n"
     ]
    }
   ],
   "source": [
    "## mnist 손글짜 숫자 인식 \n",
    "import sys, os \n",
    "sys.path.append(os.pardir)\n",
    "from dataset.mnist import load_mnist\n",
    "#(훈련 이미지, 레이블) (테스트 이미지, 테스트 레이블)\n",
    "#normalize scales values from zero to one \n",
    "#flatten makes one -Dimensional image \n",
    "#one hot hand encoding turns a label into (1 x number of classification classes)\n",
    "(x_train, t_train), (x_test, t_test) = load_mnist(flatten=True, normalize=False)\n",
    "print(x_train.shape)\n",
    "print(t_train.shape)\n",
    "print(x_test.shape)\n",
    "print(t_test.shape)"
   ]
  },
  {
   "cell_type": "code",
   "execution_count": 16,
   "id": "5e2fc13a",
   "metadata": {},
   "outputs": [
    {
     "name": "stdout",
     "output_type": "stream",
     "text": [
      "5\n",
      "(784,)\n",
      "(28, 28)\n",
      "5\n",
      "(784,)\n",
      "(28, 28)\n"
     ]
    }
   ],
   "source": [
    "import sys, os \n",
    "sys.path.append(os.pardir)\n",
    "from dataset.mnist import load_mnist\n",
    "import numpy as np \n",
    "from PIL import Image\n",
    "\n",
    "def img_show(img):\n",
    "    pil_img = Image.fromarray(np.uint8(img))\n",
    "    pil_img.show()\n",
    "    \n",
    "(x_train, t_train), (x_test, t_test) = load_mnist(flatten=True, normalize=False)\n",
    "img = x_train[0]\n",
    "label = t_train[0]\n",
    "print(label)\n",
    "print(img.shape)\n",
    "img = img.reshape(28, 28) ## transforming into original image \n",
    "print(img.shape)\n",
    "img_show(img)"
   ]
  },
  {
   "cell_type": "code",
   "execution_count": 19,
   "id": "19af1fed",
   "metadata": {},
   "outputs": [
    {
     "name": "stdout",
     "output_type": "stream",
     "text": [
      "Accuracy: 0.9352\n",
      "Accuracy: 0.9352\n"
     ]
    }
   ],
   "source": [
    "import pickle\n",
    "def get_data():\n",
    "    (x_train, t_train), (x_test, t_test) = load_mnist(flatten=True, normalize=True, one_hot_label=False)\n",
    "    return x_test, t_test\n",
    "\n",
    "def init_network():\n",
    "    ## loading pickle file in dataset \n",
    "    with open('sample_weight.pkl', 'rb') as f:\n",
    "        network = pickle.load(f)\n",
    "    return network \n",
    "\n",
    "def predict(network, x):\n",
    "    W1, W2, W3 = network['W1'], network['W2'] , network['W3']\n",
    "    b1, b2, b3 = network['b1'], network['b2'] , network['b3']\n",
    "    a1 = np.dot(x, W1) + b1 \n",
    "    z1 = sigmoid(a1)\n",
    "    a2 =  np.dot(z1, W2) + b2 \n",
    "    z2 = sigmoid(a2)\n",
    "    a3 =  np.dot(z2, W3) + b3 \n",
    "    y = softmax(a3)\n",
    "    return y\n",
    "\n",
    "x, t = get_data()\n",
    "network = init_network()\n",
    "\n",
    "accuracy_cnt = 0 \n",
    "for i in range(len(x)):\n",
    "    y = predict(network, x[i])\n",
    "    p = np.argmax(y)\n",
    "    if p == t[i]:\n",
    "        accuracy_cnt += 1 \n",
    "\n",
    "print(\"Accuracy: \" + str(accuracy_cnt / len(x)))"
   ]
  },
  {
   "cell_type": "markdown",
   "id": "c0b12f2d",
   "metadata": {},
   "source": [
    "배치 처리 \n",
    "딥러닝에서 배치는 모델의 가중치를 한번 업데이트시킬 때 사용되는 샘플들의 묶음을 의미합니다. 만약에 총 1000개의 훈련 샘플이 있는데, 배치 사이즈가 20이라면 20개의 샘플 단위마다 모델의 가중치를 한번씩 업데이트시킵니다. 그러니까 총 50번(=1000/20) 가중치가 업데이트되겠죠. 하나의 데이터셋을 총 50개의 배치로 나눠서 훈련을 진행했다고 보면 됩니다. \n",
    "\n",
    "데이터를 읽는 횟수가 줄어 cpu/gpu computation 속도 향상에 도움을 줍니다\n"
   ]
  },
  {
   "cell_type": "code",
   "execution_count": 25,
   "id": "1b92cb5b",
   "metadata": {},
   "outputs": [
    {
     "name": "stdout",
     "output_type": "stream",
     "text": [
      "Accuracy: 0.9352\n",
      "Accuracy: 0.9352\n"
     ]
    }
   ],
   "source": [
    "x, t = get_data()\n",
    "network = init_network()\n",
    "\n",
    "accuracy_cnt = 0 \n",
    "batch_size = 100\n",
    "for i in range(0,len(x), batch_size):\n",
    "    x_batch = x[i:i+batch_size]\n",
    "    y_batch = predict(network, x_batch)\n",
    "    p = np.argmax(y_batch, axis=1)\n",
    "    accuracy_cnt +=  np.sum(p == t[i:i+batch_size])\n",
    "print(\"Accuracy: \" + str(accuracy_cnt / len(x)))"
   ]
  },
  {
   "cell_type": "markdown",
   "id": "dcb540bd",
   "metadata": {},
   "source": [
    "정리\n",
    "- 신경망에서는 활성화 함수 시그모이드 함수와 ReLU 함수 같은 매끄럽게 변화하는 함수를 이용한다\n",
    "- numpy 다차원 배열을 활용하여 신경만을 효율적으로 구현이 가능하다\n",
    "- Machine Learning은 회귀와 분류로 나눌 수 있다 \n",
    "- 출력층의 활성화 함수로는 회귀에서는 주로 항등 함수를 분류에서는 주로 소프트맥스 함수를 이용하낟 \n",
    "- 분류엣는 출력층의 뉴런수를 분류하려는 클래스 수와 같게 설정한다 \n",
    "- 입력 데이터를 묶은 것을 배치라 하여, 추론 처리를 이 배치 단위로 진행하면 빠른게 결과를 얻을 수 있다 "
   ]
  },
  {
   "cell_type": "code",
   "execution_count": null,
   "id": "a65b16ad",
   "metadata": {},
   "outputs": [],
   "source": []
  }
 ],
 "metadata": {
  "kernelspec": {
   "display_name": "Python 3 (ipykernel)",
   "language": "python",
   "name": "python3"
  },
  "language_info": {
   "codemirror_mode": {
    "name": "ipython",
    "version": 3
   },
   "file_extension": ".py",
   "mimetype": "text/x-python",
   "name": "python",
   "nbconvert_exporter": "python",
   "pygments_lexer": "ipython3",
   "version": "3.9.12"
  }
 },
 "nbformat": 4,
 "nbformat_minor": 5
}
