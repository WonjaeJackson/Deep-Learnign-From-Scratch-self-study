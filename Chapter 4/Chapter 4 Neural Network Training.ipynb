{
 "cells": [
  {
   "cell_type": "markdown",
   "id": "109b27ce",
   "metadata": {},
   "source": [
    "# Chapter 4 신경망 학습\n",
    "\n",
    "학습이란 훈련 데이터로부터 가중치 매개변수의 최적값을 자동으로 획득하는 것을 뜻합니다. 이번 Chapter에서는 신경망이 학습할 수 있도록 해주는 지표인 손실 함수를 소개합니다.\n",
    "\n",
    "신경망의 특징은 데이터를 보고 학습할 수 있다는 점입니다. \n",
    "\n",
    "기계학습은 데이터에서 답을 찾고 데이터에서 패턴을 발견하고 데이터로 이야기를 만듭니다. 그래서 항상 기계학습의 중심에는 데이터가 존재합니다. 이처럼 데이터가 이끄는 접근 방식 덕에 사람 중심 접근에서 벗어날 수 있습니다. 하지만 사람이 학습에 필요한 특징을 사람이 설계합니다. \n",
    "\n",
    "딥러닝(aka end to end machine learning)은 기계학습과 다르게 있는 그대로 학습합니다. \n",
    "\n",
    "기계학습 문제는 데이터를 훈련 데이터와 시험 데이터로 나눠 학습과 실험을 수행합니다. 훈련 데이터에서 최적의 매개변수를 찾고 시험 테이터를 사용하여 훈란한 모델의 실력을 평가하는 것입니다. 데이터를 두 개로 나누는 이유는 범용성을 평가하기 위해서입니다. 훈련 데이터로 학습한 기계학습을 시험 데이터로 평가해 범용 능력을 확인하기 위해서 입니다. \n",
    "\n",
    "또한 한 데이터셋에만 지나치게 최적화된 상태를 오버피팅이라고 합니다. \n",
    "\n",
    "손실 함수 \n",
    "- 신경망 학습에서는 현재의 상태를 하나의 지표로 표현합니다. 그리고 그 지표를 가장 좋게 만들어주는 가중치 매개변수의 값을 탐색하는 것입니다. \n",
    "- 신경망에서는 이 함수를 손실 함수라고 합니다. \n",
    "- 일반적으로는 오차제곱합과 교차 엔트로피 오차를 사용합니다. \n",
    "\n",
    "오차제곱합 \n",
    "\n",
    "$$ E = \\frac{1}{2} \\sum \\limits _{k} (y_{k} - t_{k})^2$$ \n",
    "\n",
    "여기서 yk는 신경망의 출력, tk는 정답 레이블, k는 데이터의 차원 수를 나타냅니다. 이 배열들의 원소는 첫 번째 인덱스부터 순서대로 숫자 0, 1, 2 ...일 때의 값입니다. 여기에서 신경망의 출력 y는 소프트맥스 함수의 출력입니다. "
   ]
  },
  {
   "cell_type": "code",
   "execution_count": 43,
   "id": "30b08cc0",
   "metadata": {},
   "outputs": [
    {
     "name": "stdout",
     "output_type": "stream",
     "text": [
      "0.09750000000000003\n",
      "0.5975\n"
     ]
    }
   ],
   "source": [
    "## 오차제곱합 \n",
    "import numpy as np\n",
    "def sum_squares_error(y, t):\n",
    "    return 0.5 * np.sum((y-t) **2)\n",
    "\n",
    "t = [0, 0, 1, 0, 0, 0, 0, 0, 0, 0]\n",
    "\n",
    "y = [0.1, 0.05, 0.6, 0.0, 0.05, 0.1, 0.0, 0.1, 0.0, 0.0]\n",
    "print(sum_squares_error(np.array(y), np.array(t)))\n",
    "\n",
    "y = [0.1, 0.05, 0.1, 0.0, 0.05, 0.1, 0.0, 0.6, 0.0, 0.0]\n",
    "print(sum_squares_error(np.array(y), np.array(t)))"
   ]
  },
  {
   "cell_type": "markdown",
   "id": "61d28558",
   "metadata": {},
   "source": [
    "첫 번재 결과값에서 손실함수의 값이 작으니 춧 번째 추정 결과가 정답에 더 가까울 것으로 판단할 수 있습니다.\n",
    "\n",
    "교차 엔트로피 오차 \n",
    "\n",
    "$$ E = \\sum \\limits _{k} t_{k} \\log y_{k}$$ \n",
    "\n",
    "여기서 yk는 신경망의 출력, tk는 정답 레이블입니다. 또 tk는 정답에 해당하는 인덱스의 원소만 1이고 1이고 나머지는 0입니다. (원-핫 인코딩). 그래서는 실질적으로 정답일 때의 추정(tk가 1일 때의 yk)의 자연로그를 계산하는 식이 됩니다. "
   ]
  },
  {
   "cell_type": "code",
   "execution_count": 44,
   "id": "a684e330",
   "metadata": {},
   "outputs": [
    {
     "name": "stdout",
     "output_type": "stream",
     "text": [
      "0.510825457099338\n",
      "2.302584092994546\n"
     ]
    }
   ],
   "source": [
    "## cross_entropy 구현 \n",
    "def cross_entropy_error(y, t): \n",
    "    delta = 1e-7\n",
    "    return -np.sum(t * np.log(y + delta))\n",
    "\n",
    "y = [0.1, 0.05, 0.6, 0.0, 0.05, 0.1, 0.0, 0.1, 0.0, 0.0]\n",
    "print(cross_entropy_error(np.array(y), np.array(t)))\n",
    "\n",
    "y = [0.1, 0.05, 0.1, 0.0, 0.05, 0.1, 0.0, 0.6, 0.0, 0.0]\n",
    "print(cross_entropy_error(np.array(y), np.array(t)))"
   ]
  },
  {
   "cell_type": "markdown",
   "id": "30d1b3b8",
   "metadata": {},
   "source": [
    "오차제곱합과 같이 첫 번째 entropy 값이 훨씬 작기 때문에 오차제곱합과 엔트로피의 판단이 일치합니다. "
   ]
  },
  {
   "cell_type": "markdown",
   "id": "0336f7a7",
   "metadata": {},
   "source": [
    "미니배치 학습\n",
    "\n",
    "지금까지 데이터 하나에 대한 손실 함수만 생각해왔으니, 이제 훈련 데이터 모두에 대한 손실 함수의 합을 구하는 방법을 생각 할 차례입니다.\n",
    "\n",
    "교차 엔트로피 오차의 공식을 다수의 데이터로 생각했을 때 아래의 공식이 나옵니다.\n",
    "\n",
    "$$E = - \\frac{|1}{N} \\sum \\limits _{n} \\sum \\limits _{k} t_{nk} \\log y_{nk}$$ \n",
    "\n",
    "이때 데이터가 N개라면 tnk는 n번째 데이터의 k번째 값을 의미합니다 (ynk는 신경망의 출력 tk는 정답 레이블입니다).  \n",
    "\n",
    "하지만 모든 데이터를 대상으로 손실 함수의 합을 구하려면 시간이 많이 소요됩니다. 그래서 신경망 학습에서도 훈련 데이터로부터 일부만 골라 학습을 수행하며 이 일부를 mini-batch라고 합니다. 예를 들어 10000 장의 훈련 데이터 중에서 100장을 무작위로 뽑아 그 100장만 사용하여 학습하는 것을 미니배치 학습이라고 합니다. "
   ]
  },
  {
   "cell_type": "code",
   "execution_count": 45,
   "id": "00093a08",
   "metadata": {},
   "outputs": [
    {
     "name": "stdout",
     "output_type": "stream",
     "text": [
      "(60000, 784)\n",
      "(60000, 10)\n"
     ]
    },
    {
     "data": {
      "text/plain": [
       "array([19033, 46706, 48548,   209, 23940, 15663, 26071, 31871, 24416,\n",
       "       32378])"
      ]
     },
     "execution_count": 45,
     "metadata": {},
     "output_type": "execute_result"
    }
   ],
   "source": [
    "## mini-batch \n",
    "import sys, os \n",
    "sys.path.append(os.pardir)\n",
    "import numpy as np \n",
    "from dataset.mnist import load_mnist\n",
    "\n",
    "(x_train, t_train), (x_test, t_test) = load_mnist(one_hot_label=True, normalize=True)\n",
    "print(x_train.shape)\n",
    "print(t_train.shape)\n",
    "\n",
    "train_size = x_train.shape[0]\n",
    "batch_size = 10 \n",
    "batch_mask = np.random.choice(train_size, batch_size)\n",
    "x_batch = x_train[batch_mask]\n",
    "t_batch = t_train[batch_mask]\n",
    "\n",
    "## or \n",
    "np.random.choice(60000, 10)"
   ]
  },
  {
   "cell_type": "code",
   "execution_count": 46,
   "id": "e3e06d2e",
   "metadata": {},
   "outputs": [],
   "source": [
    "## cross_entropy \n",
    "## one hot encoding \n",
    "## since only one element equals one while rest equals zero, ignore the computation \n",
    "def cross_entropy_error(y, t): \n",
    "    if y.ndim == 1: \n",
    "        t = t.reshape(1, t.size)\n",
    "        y = y.reshape(1, y.size)\n",
    "    batch_size = y.shape[0]\n",
    "    return -np.sum(t * np.log(y[np.arange(batch_size), t] + 1e-7)) / batch_size"
   ]
  },
  {
   "cell_type": "markdown",
   "id": "8881ec9a",
   "metadata": {},
   "source": [
    "신경망 학습에서는 최적의 매개변수를 탐색할 때 손실 함수의 값을 가능한 한 작게 하는 매개변수 값을 찾ㅅ습니다. 이때 매개변수의 미분을 계산하고, 그 미분 값을 단서로 매개변수의 값을 서서히 갱신하는 과정을 반복합니다. 가령 가상의 신경망이 있고 그 신경망의 어느 한 가중치 매개변수에 주목한다고 합시다. 이때 그 가중치 매개변수의 손실 함수의 미분이란 가중치 매개변수의 값을 아주 조금 변화시켰을 때, 손실 함수가 어떻게 변하나라는 의미입니다. 만약 이 미분 값이 음수면 그 가중치 매개변수를 양의 방향으로 변화시켜 손실 함수의 값을 줄일 수 있고 만약 양수면 가중치 매개변수를 음의 방향으로 변화시켜 손실 함수의 값을 줄일 수 있습니다. 그러나 미분 값이 0이면 가중치 매개변수의 갱신이 멈춥니다. \n",
    "\n",
    "정확도를 지표로 삼아서는 안 되는 이유는 미분 값이 대부분의 장소에서 0이 되어 매개변수를 갱신할 수 없기 때문입니다. \n",
    "\n",
    "만약 정확도를 지표로 삼으면 가중치 매개변수의 값을 조금 바꾼다고 해도 정확도는 그대로 32%로일 것입니다. 즉 매개변수를 약간만 조정해서는 정확도가 개선되지 않고 일정하게 유지됩니다. 혹, 정확도가 개선된다 하더라도그 값은 연속적인 변화보다는 33%나 34%처럼 불연속적인 띄엄띄엄한 값으로 바뀌어버립니다."
   ]
  },
  {
   "cell_type": "markdown",
   "id": "02154402",
   "metadata": {},
   "source": [
    "수치 미분 \n",
    "- 수치 미분은 작은 차분으로 미분하는 것으로 근사값을 구하는 것입니다. "
   ]
  },
  {
   "cell_type": "code",
   "execution_count": 47,
   "id": "e50128b1",
   "metadata": {},
   "outputs": [],
   "source": [
    "## 수치 미분 예제 \n",
    "def numerical_diff(f, x):\n",
    "    h = 1e-4\n",
    "    return (f(x+h) - f(x-h)) / (2 * h)\n",
    "def function_1(x): \n",
    "    return 0.01 * x**2 + 0.1 * x"
   ]
  },
  {
   "cell_type": "code",
   "execution_count": 48,
   "id": "0d2cc74e",
   "metadata": {},
   "outputs": [
    {
     "data": {
      "image/png": "[encoded data removed]",
      "text/plain": [
       "<Figure size 432x288 with 1 Axes>"
      ]
     },
     "metadata": {
      "needs_background": "light"
     },
     "output_type": "display_data"
    },
    {
     "name": "stdout",
     "output_type": "stream",
     "text": [
      "0.1999999999990898\n",
      "0.2999999999986347\n"
     ]
    }
   ],
   "source": [
    "import numpy as np \n",
    "import matplotlib.pyplot as plt \n",
    "\n",
    "x = np.arange(0.0, 20.0, 0.1)\n",
    "y = function_1(x)\n",
    "plt.xlabel(\"x\")\n",
    "plt.ylabel(\"f(x)\")\n",
    "plt.plot(x, y)\n",
    "plt.show()\n",
    "\n",
    "print(numerical_diff(function_1, 5))\n",
    "print(numerical_diff(function_1, 10))"
   ]
  },
  {
   "cell_type": "markdown",
   "id": "d4c488cc",
   "metadata": {},
   "source": [
    "편미분\n",
    "- 변수가 여럿인 함수에 대한 미분을 편미분이라고 합니다"
   ]
  },
  {
   "cell_type": "code",
   "execution_count": 49,
   "id": "2d116dd5",
   "metadata": {},
   "outputs": [
    {
     "name": "stdout",
     "output_type": "stream",
     "text": [
      "6.00000000000378\n",
      "7.999999999999119\n"
     ]
    }
   ],
   "source": [
    "def function_2(x):\n",
    "    return x[0] **2 + x[1] ** 2\n",
    "\n",
    "def function_tmp1(x0):\n",
    "    return x0 * x0 + 4.0 **2.0\n",
    "\n",
    "def function_tmp2(x1):\n",
    "    return 3.0 ** 2.0 + x1 * x1\n",
    "\n",
    "\n",
    "print(numerical_diff(function_tmp1, 3.0))\n",
    "print(numerical_diff(function_tmp2, 4.0))"
   ]
  },
  {
   "cell_type": "markdown",
   "id": "f9da1423",
   "metadata": {},
   "source": [
    "기울기 \n",
    "- 모든 변수의 편미분을 벡터로 정리한 것을 기울기라고 합니다."
   ]
  },
  {
   "cell_type": "code",
   "execution_count": 50,
   "id": "1742adf5",
   "metadata": {},
   "outputs": [],
   "source": [
    "def numerical_gradient(f, x): \n",
    "    h = 1e-4\n",
    "    grad = np.zeros_like(x)\n",
    "    for idx in range(x.size):\n",
    "        tmp_val = x[idx]\n",
    "        #f(x+h) 계산 \n",
    "        x[idx] = tmp_val + h\n",
    "        fxh1 = f(x)\n",
    "        \n",
    "        #f(x-h) 계산 \n",
    "        x[idx] = tmp_val - h\n",
    "        fxh2 = f(x)\n",
    "        grad[idx] = (fxh1 - fxh2) / (2*h)\n",
    "        x[idx] = tmp_val\n",
    "    \n",
    "    return grad"
   ]
  },
  {
   "cell_type": "code",
   "execution_count": 51,
   "id": "1f3add11",
   "metadata": {},
   "outputs": [
    {
     "name": "stdout",
     "output_type": "stream",
     "text": [
      "[6. 8.]\n",
      "[0. 4.]\n",
      "[6. 0.]\n"
     ]
    }
   ],
   "source": [
    "print(numerical_gradient(function_2, np.array([3.0,4.0])))\n",
    "print(numerical_gradient(function_2, np.array([0.0,2.0])))\n",
    "print(numerical_gradient(function_2, np.array([3.0,0.0])))"
   ]
  },
  {
   "cell_type": "markdown",
   "id": "43250258",
   "metadata": {},
   "source": [
    "경사법 \n",
    "- 매개변수 공간이 광대하여 어디가 최솟값이 되는 곳인지를 짐작할 수 없기에 기울기를 잘 이용해 함수의 최솟값을 찾으려는 것이 경사법입니다.\n",
    "- 기울어진 방향이 꼭 최솟값을 가리키는 것은 아니나 그 방향으로 가야 함수의 값을 줄일 수 있습니다. 그래서 최솟값이 되는 장소를 찾는 문제에서는 기울기 정보를 단서로 나아갈 방향을 정해야 합니다. \n",
    "- 경사법은 현 위치에서 기울어진 방향으로 일정 기리만큼 이동합니다. 그런 다음 이동한 곳에서도 또 기울기를 구하고 그 기울어진 방향으로 나아가기를 반복합니다. \n",
    "- 이렇게 해서 함수의 값을 점차 줄이는 것이 경사법입니다. \n"
   ]
  },
  {
   "cell_type": "code",
   "execution_count": 52,
   "id": "835bb932",
   "metadata": {},
   "outputs": [],
   "source": [
    "def gradient_descent(f, init_x, lr=0.01, step_num=100):\n",
    "    x = init_x\n",
    "\n",
    "    for i in range(step_num):\n",
    "        grad = numerical_gradient(f, x)\n",
    "        x -= lr * grad\n",
    "\n",
    "    return x"
   ]
  },
  {
   "cell_type": "code",
   "execution_count": 53,
   "id": "9a5ffbee",
   "metadata": {},
   "outputs": [
    {
     "name": "stdout",
     "output_type": "stream",
     "text": [
      "[-6.11110793e-10  8.14814391e-10]\n",
      "[-2.58983747e+13 -1.29524862e+12]\n",
      "[-2.99999994  3.99999992]\n"
     ]
    }
   ],
   "source": [
    "init_x = np.array([-3.0, 4.0])\n",
    "print(gradient_descent(function_2, init_x=init_x, lr = 0.1, step_num=100))\n",
    "\n",
    "init_x = np.array([-3.0, 4.0])\n",
    "print(gradient_descent(function_2, init_x=init_x, lr = 10, step_num=100))\n",
    "\n",
    "init_x = np.array([-3.0, 4.0])\n",
    "print(gradient_descent(function_2, init_x=init_x, lr = 1e-10, step_num=100))"
   ]
  },
  {
   "cell_type": "markdown",
   "id": "df672d7a",
   "metadata": {},
   "source": [
    "신경망에서도 기울기를 구합니다. 가중치가 W, 손실 함수 L인 신경망을 생각했을 때, 손실 함수를 가중치의 각 각의 원소에 대하여 편미분을 구합니다.  "
   ]
  },
  {
   "cell_type": "code",
   "execution_count": 55,
   "id": "05a0643e",
   "metadata": {},
   "outputs": [],
   "source": [
    "import sys, os\n",
    "sys.path.append(os.pardir)  # 부모 디렉터리의 파일을 가져올 수 있도록 설정\n",
    "import numpy as np\n",
    "from common.functions import softmax, cross_entropy_error\n",
    "from common.gradient import numerical_gradient\n",
    "\n",
    "class simpleNet:\n",
    "    def __init__(self):\n",
    "        self.W = np.random.randn(2,3) # 정규분포로 초기화\n",
    "\n",
    "    def predict(self, x):\n",
    "        return np.dot(x, self.W)\n",
    "\n",
    "    def loss(self, x, t):\n",
    "        z = self.predict(x)\n",
    "        y = softmax(z)\n",
    "        loss = cross_entropy_error(y, t)\n",
    "\n",
    "        return loss"
   ]
  },
  {
   "cell_type": "code",
   "execution_count": 57,
   "id": "fb9237d9",
   "metadata": {},
   "outputs": [
    {
     "name": "stdout",
     "output_type": "stream",
     "text": [
      "[[-0.2167819  -0.29208002  2.08808344]\n",
      " [ 0.09768684 -0.26888471 -1.23528172]]\n",
      "[-0.04215099 -0.41724425  0.14109651]\n",
      "2\n",
      "0.8774331058689736\n"
     ]
    }
   ],
   "source": [
    "x = np.array([0.6, 0.9])\n",
    "t = np.array([0, 0, 1])\n",
    "\n",
    "net = simpleNet()\n",
    "print(net.W)\n",
    "p = net.predict(x)\n",
    "print(p)\n",
    "print(np.argmax(p))\n",
    "t = np.array([0,0,1])\n",
    "print(net.loss(x, t))"
   ]
  },
  {
   "cell_type": "code",
   "execution_count": 59,
   "id": "f3eb674e",
   "metadata": {},
   "outputs": [
    {
     "name": "stdout",
     "output_type": "stream",
     "text": [
      "[[ 0.20773196  0.14275863 -0.35049059]\n",
      " [ 0.31159793  0.21413795 -0.52573588]]\n"
     ]
    }
   ],
   "source": [
    "def f(W):\n",
    "    return net.loss(x, t)\n",
    "dW = numerical_gradient(f, net.W)\n",
    "print(dW)"
   ]
  },
  {
   "cell_type": "code",
   "execution_count": 60,
   "id": "6e1c3b13",
   "metadata": {},
   "outputs": [],
   "source": [
    "## 학습 알고리즘 구현하기 \n",
    "#1. 미니배치 \n",
    "#2. 기울기 산출 \n",
    "#3. 매개변수 갱시 \n",
    "#4. 반복 (1~3)\n",
    "## 경사 하강법을 미니배치로 무작위 선하기 때문에 stochastic gradient descent라고도 합니다. \n",
    "## 2층 신경망 클래스 구현 \n",
    "\n",
    "import sys, os\n",
    "sys.path.append(os.pardir)  # 부모 디렉터리의 파일을 가져올 수 있도록 설정\n",
    "from common.functions import *\n",
    "from common.gradient import numerical_gradient\n",
    "\n",
    "\n",
    "class TwoLayerNet:\n",
    "\n",
    "    def __init__(self, input_size, hidden_size, output_size, weight_init_std=0.01):\n",
    "        # 가중치 초기화\n",
    "        self.params = {}\n",
    "        self.params['W1'] = weight_init_std * np.random.randn(input_size, hidden_size)\n",
    "        self.params['b1'] = np.zeros(hidden_size)\n",
    "        self.params['W2'] = weight_init_std * np.random.randn(hidden_size, output_size)\n",
    "        self.params['b2'] = np.zeros(output_size)\n",
    "\n",
    "    def predict(self, x):\n",
    "        W1, W2 = self.params['W1'], self.params['W2']\n",
    "        b1, b2 = self.params['b1'], self.params['b2']\n",
    "    \n",
    "        a1 = np.dot(x, W1) + b1\n",
    "        z1 = sigmoid(a1)\n",
    "        a2 = np.dot(z1, W2) + b2\n",
    "        y = softmax(a2)\n",
    "        \n",
    "        return y\n",
    "        \n",
    "    # x : 입력 데이터, t : 정답 레이블\n",
    "    def loss(self, x, t):\n",
    "        y = self.predict(x)\n",
    "        \n",
    "        return cross_entropy_error(y, t)\n",
    "    \n",
    "    def accuracy(self, x, t):\n",
    "        y = self.predict(x)\n",
    "        y = np.argmax(y, axis=1)\n",
    "        t = np.argmax(t, axis=1)\n",
    "        \n",
    "        accuracy = np.sum(y == t) / float(x.shape[0])\n",
    "        return accuracy\n",
    "        \n",
    "    # x : 입력 데이터, t : 정답 레이블\n",
    "    def numerical_gradient(self, x, t):\n",
    "        loss_W = lambda W: self.loss(x, t)\n",
    "        \n",
    "        grads = {}\n",
    "        grads['W1'] = numerical_gradient(loss_W, self.params['W1'])\n",
    "        grads['b1'] = numerical_gradient(loss_W, self.params['b1'])\n",
    "        grads['W2'] = numerical_gradient(loss_W, self.params['W2'])\n",
    "        grads['b2'] = numerical_gradient(loss_W, self.params['b2'])\n",
    "        \n",
    "        return grads\n",
    "        \n",
    "    def gradient(self, x, t):\n",
    "        W1, W2 = self.params['W1'], self.params['W2']\n",
    "        b1, b2 = self.params['b1'], self.params['b2']\n",
    "        grads = {}\n",
    "        \n",
    "        batch_num = x.shape[0]\n",
    "        \n",
    "        # forward\n",
    "        a1 = np.dot(x, W1) + b1\n",
    "        z1 = sigmoid(a1)\n",
    "        a2 = np.dot(z1, W2) + b2\n",
    "        y = softmax(a2)\n",
    "        \n",
    "        # backward\n",
    "        dy = (y - t) / batch_num\n",
    "        grads['W2'] = np.dot(z1.T, dy)\n",
    "        grads['b2'] = np.sum(dy, axis=0)\n",
    "        \n",
    "        da1 = np.dot(dy, W2.T)\n",
    "        dz1 = sigmoid_grad(a1) * da1\n",
    "        grads['W1'] = np.dot(x.T, dz1)\n",
    "        grads['b1'] = np.sum(dz1, axis=0)\n",
    "\n",
    "        return grads"
   ]
  },
  {
   "cell_type": "code",
   "execution_count": 62,
   "id": "8d554085",
   "metadata": {},
   "outputs": [
    {
     "name": "stdout",
     "output_type": "stream",
     "text": [
      "train acc, test acc | 0.09925, 0.1008\n",
      "train acc, test acc | 0.7847166666666666, 0.7902\n",
      "train acc, test acc | 0.8761166666666667, 0.8798\n",
      "train acc, test acc | 0.89825, 0.9021\n",
      "train acc, test acc | 0.9084333333333333, 0.9127\n",
      "train acc, test acc | 0.9151833333333333, 0.9182\n",
      "train acc, test acc | 0.9203333333333333, 0.924\n",
      "train acc, test acc | 0.92445, 0.9269\n",
      "train acc, test acc | 0.9286333333333333, 0.93\n",
      "train acc, test acc | 0.9312166666666667, 0.932\n",
      "train acc, test acc | 0.9345333333333333, 0.9374\n",
      "train acc, test acc | 0.9372833333333334, 0.9391\n",
      "train acc, test acc | 0.9401, 0.9411\n",
      "train acc, test acc | 0.9418333333333333, 0.942\n",
      "train acc, test acc | 0.94405, 0.9444\n",
      "train acc, test acc | 0.94595, 0.9461\n",
      "train acc, test acc | 0.9474, 0.9466\n"
     ]
    },
    {
     "data": {
      "image/png": "[encoded data removed]",
      "text/plain": [
       "<Figure size 432x288 with 1 Axes>"
      ]
     },
     "metadata": {
      "needs_background": "light"
     },
     "output_type": "display_data"
    }
   ],
   "source": [
    "import sys, os\n",
    "sys.path.append(os.pardir)  # 부모 디렉터리의 파일을 가져올 수 있도록 설정\n",
    "import numpy as np\n",
    "import matplotlib.pyplot as plt\n",
    "from dataset.mnist import load_mnist\n",
    "\n",
    "# 데이터 읽기\n",
    "(x_train, t_train), (x_test, t_test) = load_mnist(normalize=True, one_hot_label=True)\n",
    "\n",
    "network = TwoLayerNet(input_size=784, hidden_size=50, output_size=10)\n",
    "\n",
    "# 하이퍼파라미터\n",
    "iters_num = 10000  # 반복 횟수를 적절히 설정한다.\n",
    "train_size = x_train.shape[0]\n",
    "batch_size = 100   # 미니배치 크기\n",
    "learning_rate = 0.1\n",
    "\n",
    "train_loss_list = []\n",
    "train_acc_list = []\n",
    "test_acc_list = []\n",
    "\n",
    "# 1에폭당 반복 수\n",
    "iter_per_epoch = max(train_size / batch_size, 1)\n",
    "\n",
    "for i in range(iters_num):\n",
    "    # 미니배치 획득\n",
    "    batch_mask = np.random.choice(train_size, batch_size)\n",
    "    x_batch = x_train[batch_mask]\n",
    "    t_batch = t_train[batch_mask]\n",
    "    \n",
    "    # 기울기 계산\n",
    "    #grad = network.numerical_gradient(x_batch, t_batch)\n",
    "    grad = network.gradient(x_batch, t_batch)\n",
    "    \n",
    "    # 매개변수 갱신\n",
    "    for key in ('W1', 'b1', 'W2', 'b2'):\n",
    "        network.params[key] -= learning_rate * grad[key]\n",
    "    \n",
    "    # 학습 경과 기록\n",
    "    loss = network.loss(x_batch, t_batch)\n",
    "    train_loss_list.append(loss)\n",
    "    \n",
    "    # 1에폭당 정확도 계산\n",
    "    if i % iter_per_epoch == 0:\n",
    "        train_acc = network.accuracy(x_train, t_train)\n",
    "        test_acc = network.accuracy(x_test, t_test)\n",
    "        train_acc_list.append(train_acc)\n",
    "        test_acc_list.append(test_acc)\n",
    "        print(\"train acc, test acc | \" + str(train_acc) + \", \" + str(test_acc))\n",
    "\n",
    "# 그래프 그리기\n",
    "markers = {'train': 'o', 'test': 's'}\n",
    "x = np.arange(len(train_acc_list))\n",
    "plt.plot(x, train_acc_list, label='train acc')\n",
    "plt.plot(x, test_acc_list, label='test acc', linestyle='--')\n",
    "plt.xlabel(\"epochs\")\n",
    "plt.ylabel(\"accuracy\")\n",
    "plt.ylim(0, 1.0)\n",
    "plt.legend(loc='lower right')\n",
    "plt.show()"
   ]
  },
  {
   "cell_type": "code",
   "execution_count": null,
   "id": "6d67845b",
   "metadata": {},
   "outputs": [],
   "source": []
  }
 ],
 "metadata": {
  "kernelspec": {
   "display_name": "Python 3 (ipykernel)",
   "language": "python",
   "name": "python3"
  },
  "language_info": {
   "codemirror_mode": {
    "name": "ipython",
    "version": 3
   },
   "file_extension": ".py",
   "mimetype": "text/x-python",
   "name": "python",
   "nbconvert_exporter": "python",
   "pygments_lexer": "ipython3",
   "version": "3.9.12"
  }
 },
 "nbformat": 4,
 "nbformat_minor": 5
}
