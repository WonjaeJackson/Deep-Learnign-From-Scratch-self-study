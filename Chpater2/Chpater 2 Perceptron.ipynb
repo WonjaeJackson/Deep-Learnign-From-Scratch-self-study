{
 "cells": [
  {
   "cell_type": "markdown",
   "id": "0ef6f4e8",
   "metadata": {},
   "source": [
    "# Chapter 2 Perceptron\n",
    "\n",
    "\n",
    "## 2.1 퍼셉트론의 정의 \n",
    "\n",
    "퍼셉트론\n",
    "- 다수의 신호를 입력으로 받아 하나의 신호를 출력합니다. \n",
    "- 대게 머신러닝이나 딥러닝에서는 퍼셉트론을 0이나 1로 표현합니다.\n",
    "- 복수의 입력 신호 각각에 고유한 가중치를 부여합니다. 가중치는 각 신호가 결과에 주는 영향력을 조절하는 요소로 작용합니다. \n",
    "- 가중치가 클수록 해당 신호가 그만큼 더 중여합니다. \n",
    "예\n",
    "$$y=\\begin{equation}\n",
    "\\left\\{ \n",
    "  \\begin{aligned}\n",
    "    0(w_1x_1&+w_1x_2 <= \\theta)\\\\\n",
    "    1(w_1x_1&+w_1x_2 > \\theta)\\\\\n",
    "  \\end{aligned}\n",
    "  \\right.\n",
    "\\end{equation}\n",
    "$$"
   ]
  },
  {
   "cell_type": "markdown",
   "id": "a2d17ac8",
   "metadata": {},
   "source": [
    "## 2.2 단순한 논리 회로 \n",
    "\n",
    "AND Gate\n",
    "- 만약 x1 과 x2의 입력을 받을 때 두 입력이 모두 1일 때만 1을 출력하고 그 외에는 0을 출력합니다. \n",
    "\n",
    "OR Gate\n",
    "- 만약 x1 과 x2의 입력을 받을 때 한 입력이상이 1일 때 1로 출력하고 그 외에는 0을 출력합니다. \n",
    "\n",
    "NAND Gate\n",
    "- NOT AND Operator \n",
    "- AND의 값을 뒤로 뒤집어 놓은 것입니다\n",
    "- 두 입력이 모두 1일때만 0으로 출력하고 그 외에는 1을 출력합니다. \n",
    "\n",
    "\n",
    "중여한 점은 세 가지 게이트에서 다른 것은 매개변수(가중치와 임계값)의 값뿐이다. 매개변수의 값만 적절히 조정하여 3가지의 논리회로 변한다"
   ]
  },
  {
   "cell_type": "markdown",
   "id": "fc193fb0",
   "metadata": {},
   "source": [
    "## Chapter 2.3 퍼센트론 구현하기"
   ]
  },
  {
   "cell_type": "code",
   "execution_count": 1,
   "id": "4ba12842",
   "metadata": {},
   "outputs": [
    {
     "name": "stdout",
     "output_type": "stream",
     "text": [
      "0\n",
      "0\n",
      "0\n",
      "1\n"
     ]
    }
   ],
   "source": [
    "## AND Operator 구현 \n",
    "\n",
    "def AND(x1, x2):\n",
    "    # w1, w2 매개변수 \n",
    "    # theta 임계값\n",
    "    w1, w2, theta = 0.5, 0.5, 0.7\n",
    "    tmp = x1*w1 + x2*w2\n",
    "    if tmp <= theta: \n",
    "        return 0 \n",
    "    elif tmp > theta: \n",
    "        return 1\n",
    "    \n",
    "print(AND(0, 0))\n",
    "print(AND(1, 0))\n",
    "print(AND(0, 1))\n",
    "print(AND(1, 1))"
   ]
  },
  {
   "cell_type": "markdown",
   "id": "9490b83e",
   "metadata": {},
   "source": [
    "## 2.3.2 가중치와 편향 도입 \n",
    "\n",
    "2.1 예제에서 θ를 왼쪽으로 옮기면 아래 공식이 된다 \n",
    "θ를 b로 바꾸면 흔히 회귀 모델에서 보는 편향(bias)이 된다.  \n",
    "\n",
    "$$y=\\begin{equation}\n",
    "\\left\\{ \n",
    "  \\begin{aligned}\n",
    "    0(w_1x_1&+w_1x_2 - b <= 0)\\\\\n",
    "    1(w_1x_1&+w_1x_2 - b> 0)\\\\\n",
    "  \\end{aligned}\n",
    "  \\right.\n",
    "\\end{equation}\n",
    "$$\n",
    "\n",
    "만약 b가 -0.1일시 각 입력 신호에 가중치를 곱한 값들의 합이 0.1을 초과할 때만 뉴런이 활성화 됩니다. 이처럼 편향의 값은 뉴런이 얼마나 쉽게 활성화되는지를 결정합니다. "
   ]
  },
  {
   "cell_type": "code",
   "execution_count": 1,
   "id": "1eb70d70",
   "metadata": {},
   "outputs": [
    {
     "name": "stdout",
     "output_type": "stream",
     "text": [
      "[0.  0.5]\n",
      "0.5\n",
      "-0.19999999999999996\n"
     ]
    }
   ],
   "source": [
    "import numpy as np \n",
    "x = np.array([0, 1]) # input \n",
    "w = np.array([0.5, 0.5]) #weight \n",
    "b = -0.7 # bias\n",
    "print(w * x)\n",
    "print(np.sum(w * x))\n",
    "print(np.sum(w*x) + b)"
   ]
  },
  {
   "cell_type": "code",
   "execution_count": 2,
   "id": "fbb6d582",
   "metadata": {},
   "outputs": [
    {
     "name": "stdout",
     "output_type": "stream",
     "text": [
      "0\n",
      "0\n",
      "0\n",
      "1\n"
     ]
    }
   ],
   "source": [
    "## 수정사항을 반영한 AND operator \n",
    "def AND(x1, x2):\n",
    "    # w1, w2 매개변수 \n",
    "    # theta 임계값\n",
    "    x = np.array([x1, x2]) # input \n",
    "    w = np.array([0.5, 0.5]) #weight \n",
    "    b = -0.7 # bias\n",
    "    tmp = np.sum(w*x) + b\n",
    "    if tmp <= 0: \n",
    "        return 0 \n",
    "    elif tmp > 0: \n",
    "        return 1\n",
    "\n",
    "print(AND(0, 0))\n",
    "print(AND(1, 0))\n",
    "print(AND(0, 1))\n",
    "print(AND(1, 1))"
   ]
  },
  {
   "cell_type": "code",
   "execution_count": 3,
   "id": "f9228967",
   "metadata": {},
   "outputs": [
    {
     "name": "stdout",
     "output_type": "stream",
     "text": [
      "1\n",
      "1\n",
      "1\n",
      "0\n"
     ]
    }
   ],
   "source": [
    "## NAND 게이트 \n",
    "def NAND(x1, x2):\n",
    "    # w1, w2 매개변수 \n",
    "    # theta 임계값\n",
    "    # AND와는 가중치 (w와 b)만 다르다\n",
    "    x = np.array([x1, x2]) # input \n",
    "    w = np.array([-0.5, -0.5]) #weight \n",
    "    b = 0.7 # bias\n",
    "    tmp = np.sum(w*x) + b\n",
    "    if tmp <= 0: \n",
    "        return 0 \n",
    "    elif tmp > 0: \n",
    "        return 1\n",
    "print(NAND(0, 0))\n",
    "print(NAND(1, 0))\n",
    "print(NAND(0, 1))\n",
    "print(NAND(1, 1))"
   ]
  },
  {
   "cell_type": "code",
   "execution_count": 4,
   "id": "99893dca",
   "metadata": {},
   "outputs": [
    {
     "name": "stdout",
     "output_type": "stream",
     "text": [
      "0\n",
      "1\n",
      "1\n",
      "1\n"
     ]
    }
   ],
   "source": [
    "## NAND 게이트 \n",
    "def OR(x1, x2):\n",
    "    # w1, w2 매개변수 \n",
    "    # theta 임계값\n",
    "    # AND와는 가중치 (w와 b)만 다르다\n",
    "    x = np.array([x1, x2]) # input \n",
    "    w = np.array([0.5, 0.5]) #weight \n",
    "    b = -0.2 # bias\n",
    "    tmp = np.sum(w*x) + b\n",
    "    if tmp <= 0: \n",
    "        return 0 \n",
    "    elif tmp > 0: \n",
    "        return 1\n",
    "print(OR(0, 0))\n",
    "print(OR(1, 0))\n",
    "print(OR(0, 1))\n",
    "print(OR(1, 1))"
   ]
  },
  {
   "cell_type": "markdown",
   "id": "5bd40d20",
   "metadata": {},
   "source": [
    "##  2.4 퍼셉트론의 한계 \n",
    "\n",
    "XOR은 배타적이라는 논리 회로입니다. x1과 x2 중 한쪽이 1일 때만 1을 출력합니다. 그렇기 때문에 직선 하나의 영역으로 XOR을 그릴 수 있는 방법이 없습니다.그렇기에 하나의 퍼셉트론으로 표현을 할수가 없습니다."
   ]
  },
  {
   "cell_type": "markdown",
   "id": "1ee68b4e",
   "metadata": {},
   "source": [
    "## 2.5 다층 퍼셉트론이 출동한다면 \n",
    "\n",
    "위에 설명하였듯 하나의 perceptron으로 만들 수 없기 때문에 perceptron으로 쌓아 다층 퍼셉트론으로 사용하면 표현을 할 수 있습니다. 다층 Perceptron을 만드는 방법은 다양합니다. 그중 하나는 앞 서 언급된 AND, NAND, OR 게이트를 조합하는 방법입니다.  "
   ]
  },
  {
   "cell_type": "code",
   "execution_count": 5,
   "id": "77c8dc43",
   "metadata": {},
   "outputs": [
    {
     "name": "stdout",
     "output_type": "stream",
     "text": [
      "0\n",
      "1\n",
      "1\n",
      "0\n"
     ]
    }
   ],
   "source": [
    "## xor 구현 \n",
    "def AND(x1, x2):\n",
    "    # w1, w2 매개변수 \n",
    "    # theta 임계값\n",
    "    x = np.array([x1, x2]) # input \n",
    "    w = np.array([0.5, 0.5]) #weight \n",
    "    b = -1 # bias\n",
    "    tmp = np.sum(w*x) + b\n",
    "    if tmp < 0: \n",
    "        return 0\n",
    "    elif tmp >= 0: \n",
    "        return 1\n",
    "    \n",
    "def NAND(x1, x2):\n",
    "    # w1, w2 매개변수 \n",
    "    # theta 임계값\n",
    "    x = np.array([x1, x2]) # input \n",
    "    w = np.array([0.5, 0.5]) #weight \n",
    "    b = -1 # bias\n",
    "    tmp = np.sum(w*x) + b\n",
    "    if tmp >= 0: \n",
    "        return 0 \n",
    "    elif tmp < 0: \n",
    "        return 1\n",
    "    \n",
    "def OR(x1, x2):\n",
    "    # w1, w2 매개변수 \n",
    "    # theta 임계값\n",
    "    x = np.array([x1, x2]) # input \n",
    "    w = np.array([0.5, 0.5]) #weight \n",
    "    b = -0.5 # bias\n",
    "    tmp = np.sum(w*x) + b\n",
    "    if tmp < 0: \n",
    "        return 0 \n",
    "    elif tmp >= 0: \n",
    "        return 1\n",
    "    \n",
    "\n",
    "def XOR(x1, x2): \n",
    "    s1 = NAND(x1, x2)\n",
    "    s2 = OR(x1, x2)\n",
    "    y = AND(s1, s2)\n",
    "    return y \n",
    "\n",
    "print(XOR(0, 0))\n",
    "print(XOR(1, 0))\n",
    "print(XOR(0, 1))\n",
    "print(XOR(1, 1))"
   ]
  },
  {
   "cell_type": "markdown",
   "id": "3158f25f",
   "metadata": {},
   "source": [
    "위에 함수는 첫 층에서 NAND와 OR GATE를 사용한뒤 2층에서 AND GATE를 사용하여 다층 퍼셉트론을 구현했습니다.  "
   ]
  },
  {
   "cell_type": "markdown",
   "id": "8d9f7672",
   "metadata": {},
   "source": [
    "## Summary \n",
    "\n",
    "- 퍼셉트론은 입출력을 갖춘 알고리즘이며 정해진 규칙에 따른 값을 출력한다 \n",
    "- 퍼셉트론은 가중치와 편향을 매개변수로 설정한다 \n",
    "- 퍼셉트른으로 AND, OR 게이트 등의 논리 회로를 표현할 수 있다 \n",
    "- XOR 게이트는 단층 퍼셉트론으로는 표현할 수 없다 \n",
    "- 2층 퍼셉트론을 이용하면 XOR 게이트를 표현할 수 있다 \n",
    "- 단층 퍼셉트론은 직선형 영역만 표현할 수 있고, 다층 퍼셉트론은 비선형 영역도 표현할 수 있다 "
   ]
  },
  {
   "cell_type": "code",
   "execution_count": null,
   "id": "572793fb",
   "metadata": {},
   "outputs": [],
   "source": []
  }
 ],
 "metadata": {
  "kernelspec": {
   "display_name": "Python 3 (ipykernel)",
   "language": "python",
   "name": "python3"
  },
  "language_info": {
   "codemirror_mode": {
    "name": "ipython",
    "version": 3
   },
   "file_extension": ".py",
   "mimetype": "text/x-python",
   "name": "python",
   "nbconvert_exporter": "python",
   "pygments_lexer": "ipython3",
   "version": "3.9.12"
  }
 },
 "nbformat": 4,
 "nbformat_minor": 5
}
